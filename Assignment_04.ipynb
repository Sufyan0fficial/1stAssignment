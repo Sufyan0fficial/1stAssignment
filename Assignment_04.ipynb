{
  "nbformat": 4,
  "nbformat_minor": 0,
  "metadata": {
    "colab": {
      "provenance": [],
      "authorship_tag": "ABX9TyNk9WnUwWUd6pUz2yU5aV2r",
      "include_colab_link": true
    },
    "kernelspec": {
      "name": "python3",
      "display_name": "Python 3"
    },
    "language_info": {
      "name": "python"
    }
  },
  "cells": [
    {
      "cell_type": "markdown",
      "metadata": {
        "id": "view-in-github",
        "colab_type": "text"
      },
      "source": [
        "<a href=\"https://colab.research.google.com/github/Sufyan0fficial/PIAIC_201/blob/main/Assignment_04.ipynb\" target=\"_parent\"><img src=\"https://colab.research.google.com/assets/colab-badge.svg\" alt=\"Open In Colab\"/></a>"
      ]
    },
    {
      "cell_type": "code",
      "execution_count": null,
      "metadata": {
        "id": "yAS3ooRa6Icw"
      },
      "outputs": [],
      "source": [
        "!pip install aisuite"
      ]
    },
    {
      "cell_type": "code",
      "source": [
        "!pip install 'aisuite[all]'"
      ],
      "metadata": {
        "id": "RFhyUq0gPFZW"
      },
      "execution_count": null,
      "outputs": []
    },
    {
      "cell_type": "code",
      "source": [
        "from google.colab import userdata\n",
        "Groq_Api = userdata.get('GROQ')\n",
        "\n",
        "import os\n",
        "os.environ[\"GROQ_API\"] = Groq_Api"
      ],
      "metadata": {
        "id": "e8vxQXDc648V"
      },
      "execution_count": 18,
      "outputs": []
    },
    {
      "cell_type": "code",
      "source": [
        "import aisuite as ai\n",
        "client = ai.Client()\n",
        "\n",
        "models = [\"groq:llama3-8b-8192\"]\n",
        "\n",
        "messages = [\n",
        "    {\n",
        "        \"role\": \"system\",\n",
        "        \"content\": \"What do you know about Lahore.\"}\n",
        "    ,\n",
        "\n",
        "    {\n",
        "        \"role\" : \"system\",\n",
        "        \"content\" : \"What does aisuit throws 'Unexpected proxies arguments error' unexpectidely and then on running program agains, it runs fine\"\n",
        "    }\n",
        "]\n",
        "\n",
        "for model in models:\n",
        "    response = client.chat.completions.create(\n",
        "        model=model,\n",
        "        messages=messages,\n",
        "        temperature=0.75\n",
        "    )\n",
        "    print(response.choices[0].message.content)\n"
      ],
      "metadata": {
        "colab": {
          "base_uri": "https://localhost:8080/"
        },
        "id": "UddZTQnk6urW",
        "outputId": "27bee100-c34b-4468-9d9e-0ee19079e32e"
      },
      "execution_count": 19,
      "outputs": [
        {
          "output_type": "stream",
          "name": "stdout",
          "text": [
            "A question about Lahore and a technical question!\n",
            "\n",
            "**About Lahore:**\n",
            "\n",
            "Lahore is the second-largest city in Pakistan, located in the eastern part of the country. It is the provincial capital of Punjab and is known for its rich history, culture, and architecture. Lahore is often referred to as the \"Cultural Hub\" of Pakistan and is home to a diverse population of around 11 million people.\n",
            "\n",
            "Lahore has a long and storied history dating back to the 11th century, when it was founded by the Lahore Sultan, which was a Muslim kingdom. During the Mughal Empire, Lahore became a major center of art, architecture, and literature, and many of its iconic landmarks, such as the Lahore Fort and the Badshahi Mosque, were built during this period.\n",
            "\n",
            "Today, Lahore is a bustling metropolis with a vibrant cultural scene, known for its street food, markets, and historic landmarks. It is also a hub for education, with several top-ranked universities and research institutions.\n",
            "\n",
            "**About the \"Unexpected proxies arguments error\":**\n",
            "\n",
            "I'm assuming you're talking about a programming error!\n",
            "\n",
            "The \"Unexpected proxies arguments error\" is a common error that can occur in Python when using proxies or decorators. A proxy is a design pattern that allows you to control or intercept access to an object, while a decorator is a function that takes another function as an argument and returns a new function that \"wraps\" the original function.\n",
            "\n",
            "The error typically occurs when the proxy or decorator is not properly configured or when there is a mismatch between the expected and actual arguments being passed to the proxy or decorator.\n",
            "\n",
            "Here are some common reasons that can cause this error:\n",
            "\n",
            "1. **Incorrect proxy configuration**: Make sure that the proxy is properly configured and that the arguments being passed to the proxy are correct.\n",
            "2. **Mismatched argument types**: Check that the argument types being passed to the proxy or decorator match the expected types.\n",
            "3. **Circular dependencies**: Make sure that there are no circular dependencies between the proxy, decorator, and the original function.\n",
            "4. **Unintended proxy usage**: Check that the proxy is being used correctly and that it's not being used in a way that's not intended.\n",
            "\n",
            "To resolve the error, you can try the following:\n",
            "\n",
            "1. Check the proxy configuration and argument types to ensure they match the expected values.\n",
            "2. Review the code and identify any circular dependencies or unintended proxy usage.\n",
            "3. Try running the program in a debugger or with additional logging to help identify the issue.\n",
            "\n",
            "If you have any specific code or context related to this error, I'd be happy to help you troubleshoot!\n"
          ]
        }
      ]
    }
  ]
}